{
  "nbformat": 4,
  "nbformat_minor": 0,
  "metadata": {
    "colab": {
      "provenance": [],
      "authorship_tag": "ABX9TyMlgUn1f9SBs/cW4g+w/9sN",
      "include_colab_link": true
    },
    "kernelspec": {
      "name": "python3",
      "display_name": "Python 3"
    },
    "language_info": {
      "name": "python"
    }
  },
  "cells": [
    {
      "cell_type": "markdown",
      "metadata": {
        "id": "view-in-github",
        "colab_type": "text"
      },
      "source": [
        "<a href=\"https://colab.research.google.com/github/AI-ML-DL-EXPERT/Admission-Predictor/blob/main/Admission_Predictor.ipynb\" target=\"_parent\"><img src=\"https://colab.research.google.com/assets/colab-badge.svg\" alt=\"Open In Colab\"/></a>"
      ]
    },
    {
      "cell_type": "markdown",
      "source": [
        "## Import the dataset"
      ],
      "metadata": {
        "id": "jRkqYWdhCSzr"
      }
    },
    {
      "cell_type": "code",
      "execution_count": 1,
      "metadata": {
        "id": "9dJ6OI3_B43J"
      },
      "outputs": [],
      "source": [
        "!mkdir -p ~/.kaggle/\n",
        "\n",
        "# Here /content/Kaggle API Token/kaggle.json this is the path of the Kaggle API Tok\n",
        "!cp \"/content/Kaggle API Token/kaggle.json\" ~/.kaggle/"
      ]
    },
    {
      "cell_type": "code",
      "source": [
        "!kaggle datasets download -d mohansacharya/graduate-admissions"
      ],
      "metadata": {
        "colab": {
          "base_uri": "https://localhost:8080/"
        },
        "id": "WVQbHA9UB5uD",
        "outputId": "7424f29e-0b20-4ae4-926e-f774f33350f3"
      },
      "execution_count": null,
      "outputs": [
        {
          "output_type": "stream",
          "name": "stdout",
          "text": [
            "Warning: Your Kaggle API key is readable by other users on this system! To fix this, you can run 'chmod 600 /root/.kaggle/kaggle.json'\n",
            "graduate-admissions.zip: Skipping, found more recently modified local copy (use --force to force download)\n"
          ]
        }
      ]
    },
    {
      "cell_type": "code",
      "source": [
        "import zipfile\n",
        "\n",
        "zip_ref = zipfile.ZipFile(\"/content/graduate-admissions.zip\", \"r\")\n",
        "\n",
        "zip_ref.extractall(\"/content/Dataset/\")\n",
        "zip_ref.close()"
      ],
      "metadata": {
        "id": "0c2t3iRkCHvL"
      },
      "execution_count": null,
      "outputs": []
    },
    {
      "cell_type": "markdown",
      "source": [
        "## Working on the dataset"
      ],
      "metadata": {
        "id": "9hlUGLBzCYWa"
      }
    },
    {
      "cell_type": "code",
      "source": [
        "import pandas as pd\n",
        "\n",
        "df = pd.read_csv(\"/content/Dataset/Admission_Predict_Ver1.1.csv\")"
      ],
      "metadata": {
        "id": "rH3CdjJkCOF6"
      },
      "execution_count": null,
      "outputs": []
    },
    {
      "cell_type": "code",
      "source": [
        "df.head()"
      ],
      "metadata": {
        "colab": {
          "base_uri": "https://localhost:8080/",
          "height": 206
        },
        "id": "OZbsftyACenL",
        "outputId": "48f33645-2184-4119-e8d7-64ed9a2df0e5"
      },
      "execution_count": null,
      "outputs": [
        {
          "output_type": "execute_result",
          "data": {
            "text/plain": [
              "   Serial No.  GRE Score  TOEFL Score  University Rating  SOP  LOR   CGPA  \\\n",
              "0           1        337          118                  4  4.5   4.5  9.65   \n",
              "1           2        324          107                  4  4.0   4.5  8.87   \n",
              "2           3        316          104                  3  3.0   3.5  8.00   \n",
              "3           4        322          110                  3  3.5   2.5  8.67   \n",
              "4           5        314          103                  2  2.0   3.0  8.21   \n",
              "\n",
              "   Research  Chance of Admit   \n",
              "0         1              0.92  \n",
              "1         1              0.76  \n",
              "2         1              0.72  \n",
              "3         1              0.80  \n",
              "4         0              0.65  "
            ],
            "text/html": [
              "\n",
              "  <div id=\"df-11fe502e-c9de-4e70-9ab4-78cd85ba310b\" class=\"colab-df-container\">\n",
              "    <div>\n",
              "<style scoped>\n",
              "    .dataframe tbody tr th:only-of-type {\n",
              "        vertical-align: middle;\n",
              "    }\n",
              "\n",
              "    .dataframe tbody tr th {\n",
              "        vertical-align: top;\n",
              "    }\n",
              "\n",
              "    .dataframe thead th {\n",
              "        text-align: right;\n",
              "    }\n",
              "</style>\n",
              "<table border=\"1\" class=\"dataframe\">\n",
              "  <thead>\n",
              "    <tr style=\"text-align: right;\">\n",
              "      <th></th>\n",
              "      <th>Serial No.</th>\n",
              "      <th>GRE Score</th>\n",
              "      <th>TOEFL Score</th>\n",
              "      <th>University Rating</th>\n",
              "      <th>SOP</th>\n",
              "      <th>LOR</th>\n",
              "      <th>CGPA</th>\n",
              "      <th>Research</th>\n",
              "      <th>Chance of Admit</th>\n",
              "    </tr>\n",
              "  </thead>\n",
              "  <tbody>\n",
              "    <tr>\n",
              "      <th>0</th>\n",
              "      <td>1</td>\n",
              "      <td>337</td>\n",
              "      <td>118</td>\n",
              "      <td>4</td>\n",
              "      <td>4.5</td>\n",
              "      <td>4.5</td>\n",
              "      <td>9.65</td>\n",
              "      <td>1</td>\n",
              "      <td>0.92</td>\n",
              "    </tr>\n",
              "    <tr>\n",
              "      <th>1</th>\n",
              "      <td>2</td>\n",
              "      <td>324</td>\n",
              "      <td>107</td>\n",
              "      <td>4</td>\n",
              "      <td>4.0</td>\n",
              "      <td>4.5</td>\n",
              "      <td>8.87</td>\n",
              "      <td>1</td>\n",
              "      <td>0.76</td>\n",
              "    </tr>\n",
              "    <tr>\n",
              "      <th>2</th>\n",
              "      <td>3</td>\n",
              "      <td>316</td>\n",
              "      <td>104</td>\n",
              "      <td>3</td>\n",
              "      <td>3.0</td>\n",
              "      <td>3.5</td>\n",
              "      <td>8.00</td>\n",
              "      <td>1</td>\n",
              "      <td>0.72</td>\n",
              "    </tr>\n",
              "    <tr>\n",
              "      <th>3</th>\n",
              "      <td>4</td>\n",
              "      <td>322</td>\n",
              "      <td>110</td>\n",
              "      <td>3</td>\n",
              "      <td>3.5</td>\n",
              "      <td>2.5</td>\n",
              "      <td>8.67</td>\n",
              "      <td>1</td>\n",
              "      <td>0.80</td>\n",
              "    </tr>\n",
              "    <tr>\n",
              "      <th>4</th>\n",
              "      <td>5</td>\n",
              "      <td>314</td>\n",
              "      <td>103</td>\n",
              "      <td>2</td>\n",
              "      <td>2.0</td>\n",
              "      <td>3.0</td>\n",
              "      <td>8.21</td>\n",
              "      <td>0</td>\n",
              "      <td>0.65</td>\n",
              "    </tr>\n",
              "  </tbody>\n",
              "</table>\n",
              "</div>\n",
              "    <div class=\"colab-df-buttons\">\n",
              "\n",
              "  <div class=\"colab-df-container\">\n",
              "    <button class=\"colab-df-convert\" onclick=\"convertToInteractive('df-11fe502e-c9de-4e70-9ab4-78cd85ba310b')\"\n",
              "            title=\"Convert this dataframe to an interactive table.\"\n",
              "            style=\"display:none;\">\n",
              "\n",
              "  <svg xmlns=\"http://www.w3.org/2000/svg\" height=\"24px\" viewBox=\"0 -960 960 960\">\n",
              "    <path d=\"M120-120v-720h720v720H120Zm60-500h600v-160H180v160Zm220 220h160v-160H400v160Zm0 220h160v-160H400v160ZM180-400h160v-160H180v160Zm440 0h160v-160H620v160ZM180-180h160v-160H180v160Zm440 0h160v-160H620v160Z\"/>\n",
              "  </svg>\n",
              "    </button>\n",
              "\n",
              "  <style>\n",
              "    .colab-df-container {\n",
              "      display:flex;\n",
              "      gap: 12px;\n",
              "    }\n",
              "\n",
              "    .colab-df-convert {\n",
              "      background-color: #E8F0FE;\n",
              "      border: none;\n",
              "      border-radius: 50%;\n",
              "      cursor: pointer;\n",
              "      display: none;\n",
              "      fill: #1967D2;\n",
              "      height: 32px;\n",
              "      padding: 0 0 0 0;\n",
              "      width: 32px;\n",
              "    }\n",
              "\n",
              "    .colab-df-convert:hover {\n",
              "      background-color: #E2EBFA;\n",
              "      box-shadow: 0px 1px 2px rgba(60, 64, 67, 0.3), 0px 1px 3px 1px rgba(60, 64, 67, 0.15);\n",
              "      fill: #174EA6;\n",
              "    }\n",
              "\n",
              "    .colab-df-buttons div {\n",
              "      margin-bottom: 4px;\n",
              "    }\n",
              "\n",
              "    [theme=dark] .colab-df-convert {\n",
              "      background-color: #3B4455;\n",
              "      fill: #D2E3FC;\n",
              "    }\n",
              "\n",
              "    [theme=dark] .colab-df-convert:hover {\n",
              "      background-color: #434B5C;\n",
              "      box-shadow: 0px 1px 3px 1px rgba(0, 0, 0, 0.15);\n",
              "      filter: drop-shadow(0px 1px 2px rgba(0, 0, 0, 0.3));\n",
              "      fill: #FFFFFF;\n",
              "    }\n",
              "  </style>\n",
              "\n",
              "    <script>\n",
              "      const buttonEl =\n",
              "        document.querySelector('#df-11fe502e-c9de-4e70-9ab4-78cd85ba310b button.colab-df-convert');\n",
              "      buttonEl.style.display =\n",
              "        google.colab.kernel.accessAllowed ? 'block' : 'none';\n",
              "\n",
              "      async function convertToInteractive(key) {\n",
              "        const element = document.querySelector('#df-11fe502e-c9de-4e70-9ab4-78cd85ba310b');\n",
              "        const dataTable =\n",
              "          await google.colab.kernel.invokeFunction('convertToInteractive',\n",
              "                                                    [key], {});\n",
              "        if (!dataTable) return;\n",
              "\n",
              "        const docLinkHtml = 'Like what you see? Visit the ' +\n",
              "          '<a target=\"_blank\" href=https://colab.research.google.com/notebooks/data_table.ipynb>data table notebook</a>'\n",
              "          + ' to learn more about interactive tables.';\n",
              "        element.innerHTML = '';\n",
              "        dataTable['output_type'] = 'display_data';\n",
              "        await google.colab.output.renderOutput(dataTable, element);\n",
              "        const docLink = document.createElement('div');\n",
              "        docLink.innerHTML = docLinkHtml;\n",
              "        element.appendChild(docLink);\n",
              "      }\n",
              "    </script>\n",
              "  </div>\n",
              "\n",
              "\n",
              "<div id=\"df-f9da8e12-e445-4ff9-8dc7-f54b8b5fcbbc\">\n",
              "  <button class=\"colab-df-quickchart\" onclick=\"quickchart('df-f9da8e12-e445-4ff9-8dc7-f54b8b5fcbbc')\"\n",
              "            title=\"Suggest charts\"\n",
              "            style=\"display:none;\">\n",
              "\n",
              "<svg xmlns=\"http://www.w3.org/2000/svg\" height=\"24px\"viewBox=\"0 0 24 24\"\n",
              "     width=\"24px\">\n",
              "    <g>\n",
              "        <path d=\"M19 3H5c-1.1 0-2 .9-2 2v14c0 1.1.9 2 2 2h14c1.1 0 2-.9 2-2V5c0-1.1-.9-2-2-2zM9 17H7v-7h2v7zm4 0h-2V7h2v10zm4 0h-2v-4h2v4z\"/>\n",
              "    </g>\n",
              "</svg>\n",
              "  </button>\n",
              "\n",
              "<style>\n",
              "  .colab-df-quickchart {\n",
              "      --bg-color: #E8F0FE;\n",
              "      --fill-color: #1967D2;\n",
              "      --hover-bg-color: #E2EBFA;\n",
              "      --hover-fill-color: #174EA6;\n",
              "      --disabled-fill-color: #AAA;\n",
              "      --disabled-bg-color: #DDD;\n",
              "  }\n",
              "\n",
              "  [theme=dark] .colab-df-quickchart {\n",
              "      --bg-color: #3B4455;\n",
              "      --fill-color: #D2E3FC;\n",
              "      --hover-bg-color: #434B5C;\n",
              "      --hover-fill-color: #FFFFFF;\n",
              "      --disabled-bg-color: #3B4455;\n",
              "      --disabled-fill-color: #666;\n",
              "  }\n",
              "\n",
              "  .colab-df-quickchart {\n",
              "    background-color: var(--bg-color);\n",
              "    border: none;\n",
              "    border-radius: 50%;\n",
              "    cursor: pointer;\n",
              "    display: none;\n",
              "    fill: var(--fill-color);\n",
              "    height: 32px;\n",
              "    padding: 0;\n",
              "    width: 32px;\n",
              "  }\n",
              "\n",
              "  .colab-df-quickchart:hover {\n",
              "    background-color: var(--hover-bg-color);\n",
              "    box-shadow: 0 1px 2px rgba(60, 64, 67, 0.3), 0 1px 3px 1px rgba(60, 64, 67, 0.15);\n",
              "    fill: var(--button-hover-fill-color);\n",
              "  }\n",
              "\n",
              "  .colab-df-quickchart-complete:disabled,\n",
              "  .colab-df-quickchart-complete:disabled:hover {\n",
              "    background-color: var(--disabled-bg-color);\n",
              "    fill: var(--disabled-fill-color);\n",
              "    box-shadow: none;\n",
              "  }\n",
              "\n",
              "  .colab-df-spinner {\n",
              "    border: 2px solid var(--fill-color);\n",
              "    border-color: transparent;\n",
              "    border-bottom-color: var(--fill-color);\n",
              "    animation:\n",
              "      spin 1s steps(1) infinite;\n",
              "  }\n",
              "\n",
              "  @keyframes spin {\n",
              "    0% {\n",
              "      border-color: transparent;\n",
              "      border-bottom-color: var(--fill-color);\n",
              "      border-left-color: var(--fill-color);\n",
              "    }\n",
              "    20% {\n",
              "      border-color: transparent;\n",
              "      border-left-color: var(--fill-color);\n",
              "      border-top-color: var(--fill-color);\n",
              "    }\n",
              "    30% {\n",
              "      border-color: transparent;\n",
              "      border-left-color: var(--fill-color);\n",
              "      border-top-color: var(--fill-color);\n",
              "      border-right-color: var(--fill-color);\n",
              "    }\n",
              "    40% {\n",
              "      border-color: transparent;\n",
              "      border-right-color: var(--fill-color);\n",
              "      border-top-color: var(--fill-color);\n",
              "    }\n",
              "    60% {\n",
              "      border-color: transparent;\n",
              "      border-right-color: var(--fill-color);\n",
              "    }\n",
              "    80% {\n",
              "      border-color: transparent;\n",
              "      border-right-color: var(--fill-color);\n",
              "      border-bottom-color: var(--fill-color);\n",
              "    }\n",
              "    90% {\n",
              "      border-color: transparent;\n",
              "      border-bottom-color: var(--fill-color);\n",
              "    }\n",
              "  }\n",
              "</style>\n",
              "\n",
              "  <script>\n",
              "    async function quickchart(key) {\n",
              "      const quickchartButtonEl =\n",
              "        document.querySelector('#' + key + ' button');\n",
              "      quickchartButtonEl.disabled = true;  // To prevent multiple clicks.\n",
              "      quickchartButtonEl.classList.add('colab-df-spinner');\n",
              "      try {\n",
              "        const charts = await google.colab.kernel.invokeFunction(\n",
              "            'suggestCharts', [key], {});\n",
              "      } catch (error) {\n",
              "        console.error('Error during call to suggestCharts:', error);\n",
              "      }\n",
              "      quickchartButtonEl.classList.remove('colab-df-spinner');\n",
              "      quickchartButtonEl.classList.add('colab-df-quickchart-complete');\n",
              "    }\n",
              "    (() => {\n",
              "      let quickchartButtonEl =\n",
              "        document.querySelector('#df-f9da8e12-e445-4ff9-8dc7-f54b8b5fcbbc button');\n",
              "      quickchartButtonEl.style.display =\n",
              "        google.colab.kernel.accessAllowed ? 'block' : 'none';\n",
              "    })();\n",
              "  </script>\n",
              "</div>\n",
              "    </div>\n",
              "  </div>\n"
            ]
          },
          "metadata": {},
          "execution_count": 5
        }
      ]
    },
    {
      "cell_type": "code",
      "source": [
        "df.shape"
      ],
      "metadata": {
        "colab": {
          "base_uri": "https://localhost:8080/"
        },
        "id": "LSCqJrH-CfXj",
        "outputId": "cbd317b5-8e00-41a4-99ad-4385d620f75d"
      },
      "execution_count": null,
      "outputs": [
        {
          "output_type": "execute_result",
          "data": {
            "text/plain": [
              "(500, 9)"
            ]
          },
          "metadata": {},
          "execution_count": 6
        }
      ]
    },
    {
      "cell_type": "code",
      "source": [
        "df.info()"
      ],
      "metadata": {
        "colab": {
          "base_uri": "https://localhost:8080/"
        },
        "id": "rGkLO_7HCoHj",
        "outputId": "511041e3-359f-42d2-9555-612ae8dcaebc"
      },
      "execution_count": null,
      "outputs": [
        {
          "output_type": "stream",
          "name": "stdout",
          "text": [
            "<class 'pandas.core.frame.DataFrame'>\n",
            "RangeIndex: 500 entries, 0 to 499\n",
            "Data columns (total 9 columns):\n",
            " #   Column             Non-Null Count  Dtype  \n",
            "---  ------             --------------  -----  \n",
            " 0   Serial No.         500 non-null    int64  \n",
            " 1   GRE Score          500 non-null    int64  \n",
            " 2   TOEFL Score        500 non-null    int64  \n",
            " 3   University Rating  500 non-null    int64  \n",
            " 4   SOP                500 non-null    float64\n",
            " 5   LOR                500 non-null    float64\n",
            " 6   CGPA               500 non-null    float64\n",
            " 7   Research           500 non-null    int64  \n",
            " 8   Chance of Admit    500 non-null    float64\n",
            "dtypes: float64(4), int64(5)\n",
            "memory usage: 35.3 KB\n"
          ]
        }
      ]
    },
    {
      "cell_type": "code",
      "source": [
        "df.duplicated().sum()"
      ],
      "metadata": {
        "colab": {
          "base_uri": "https://localhost:8080/"
        },
        "id": "-5L-cj-1Cq7a",
        "outputId": "1cea0671-fe1b-4f57-f46d-5ddf23743606"
      },
      "execution_count": null,
      "outputs": [
        {
          "output_type": "execute_result",
          "data": {
            "text/plain": [
              "0"
            ]
          },
          "metadata": {},
          "execution_count": 8
        }
      ]
    },
    {
      "cell_type": "code",
      "source": [
        "df.drop(columns = [\"Serial No.\"], inplace = True)"
      ],
      "metadata": {
        "id": "f_EGZPy6Cuhz"
      },
      "execution_count": null,
      "outputs": []
    },
    {
      "cell_type": "code",
      "source": [
        "x = df.iloc[:, 0: -1]\n",
        "y = df.iloc[:, -1]"
      ],
      "metadata": {
        "id": "K_yUfqpSC0OM"
      },
      "execution_count": null,
      "outputs": []
    },
    {
      "cell_type": "code",
      "source": [
        "x"
      ],
      "metadata": {
        "colab": {
          "base_uri": "https://localhost:8080/",
          "height": 423
        },
        "id": "0-gt7EM7DALD",
        "outputId": "a83889eb-8516-42b1-db12-79181b7c20e6"
      },
      "execution_count": null,
      "outputs": [
        {
          "output_type": "execute_result",
          "data": {
            "text/plain": [
              "     GRE Score  TOEFL Score  University Rating  SOP  LOR   CGPA  Research\n",
              "0          337          118                  4  4.5   4.5  9.65         1\n",
              "1          324          107                  4  4.0   4.5  8.87         1\n",
              "2          316          104                  3  3.0   3.5  8.00         1\n",
              "3          322          110                  3  3.5   2.5  8.67         1\n",
              "4          314          103                  2  2.0   3.0  8.21         0\n",
              "..         ...          ...                ...  ...   ...   ...       ...\n",
              "495        332          108                  5  4.5   4.0  9.02         1\n",
              "496        337          117                  5  5.0   5.0  9.87         1\n",
              "497        330          120                  5  4.5   5.0  9.56         1\n",
              "498        312          103                  4  4.0   5.0  8.43         0\n",
              "499        327          113                  4  4.5   4.5  9.04         0\n",
              "\n",
              "[500 rows x 7 columns]"
            ],
            "text/html": [
              "\n",
              "  <div id=\"df-09dd2642-50ac-4f74-aa7c-fb42b25fabb1\" class=\"colab-df-container\">\n",
              "    <div>\n",
              "<style scoped>\n",
              "    .dataframe tbody tr th:only-of-type {\n",
              "        vertical-align: middle;\n",
              "    }\n",
              "\n",
              "    .dataframe tbody tr th {\n",
              "        vertical-align: top;\n",
              "    }\n",
              "\n",
              "    .dataframe thead th {\n",
              "        text-align: right;\n",
              "    }\n",
              "</style>\n",
              "<table border=\"1\" class=\"dataframe\">\n",
              "  <thead>\n",
              "    <tr style=\"text-align: right;\">\n",
              "      <th></th>\n",
              "      <th>GRE Score</th>\n",
              "      <th>TOEFL Score</th>\n",
              "      <th>University Rating</th>\n",
              "      <th>SOP</th>\n",
              "      <th>LOR</th>\n",
              "      <th>CGPA</th>\n",
              "      <th>Research</th>\n",
              "    </tr>\n",
              "  </thead>\n",
              "  <tbody>\n",
              "    <tr>\n",
              "      <th>0</th>\n",
              "      <td>337</td>\n",
              "      <td>118</td>\n",
              "      <td>4</td>\n",
              "      <td>4.5</td>\n",
              "      <td>4.5</td>\n",
              "      <td>9.65</td>\n",
              "      <td>1</td>\n",
              "    </tr>\n",
              "    <tr>\n",
              "      <th>1</th>\n",
              "      <td>324</td>\n",
              "      <td>107</td>\n",
              "      <td>4</td>\n",
              "      <td>4.0</td>\n",
              "      <td>4.5</td>\n",
              "      <td>8.87</td>\n",
              "      <td>1</td>\n",
              "    </tr>\n",
              "    <tr>\n",
              "      <th>2</th>\n",
              "      <td>316</td>\n",
              "      <td>104</td>\n",
              "      <td>3</td>\n",
              "      <td>3.0</td>\n",
              "      <td>3.5</td>\n",
              "      <td>8.00</td>\n",
              "      <td>1</td>\n",
              "    </tr>\n",
              "    <tr>\n",
              "      <th>3</th>\n",
              "      <td>322</td>\n",
              "      <td>110</td>\n",
              "      <td>3</td>\n",
              "      <td>3.5</td>\n",
              "      <td>2.5</td>\n",
              "      <td>8.67</td>\n",
              "      <td>1</td>\n",
              "    </tr>\n",
              "    <tr>\n",
              "      <th>4</th>\n",
              "      <td>314</td>\n",
              "      <td>103</td>\n",
              "      <td>2</td>\n",
              "      <td>2.0</td>\n",
              "      <td>3.0</td>\n",
              "      <td>8.21</td>\n",
              "      <td>0</td>\n",
              "    </tr>\n",
              "    <tr>\n",
              "      <th>...</th>\n",
              "      <td>...</td>\n",
              "      <td>...</td>\n",
              "      <td>...</td>\n",
              "      <td>...</td>\n",
              "      <td>...</td>\n",
              "      <td>...</td>\n",
              "      <td>...</td>\n",
              "    </tr>\n",
              "    <tr>\n",
              "      <th>495</th>\n",
              "      <td>332</td>\n",
              "      <td>108</td>\n",
              "      <td>5</td>\n",
              "      <td>4.5</td>\n",
              "      <td>4.0</td>\n",
              "      <td>9.02</td>\n",
              "      <td>1</td>\n",
              "    </tr>\n",
              "    <tr>\n",
              "      <th>496</th>\n",
              "      <td>337</td>\n",
              "      <td>117</td>\n",
              "      <td>5</td>\n",
              "      <td>5.0</td>\n",
              "      <td>5.0</td>\n",
              "      <td>9.87</td>\n",
              "      <td>1</td>\n",
              "    </tr>\n",
              "    <tr>\n",
              "      <th>497</th>\n",
              "      <td>330</td>\n",
              "      <td>120</td>\n",
              "      <td>5</td>\n",
              "      <td>4.5</td>\n",
              "      <td>5.0</td>\n",
              "      <td>9.56</td>\n",
              "      <td>1</td>\n",
              "    </tr>\n",
              "    <tr>\n",
              "      <th>498</th>\n",
              "      <td>312</td>\n",
              "      <td>103</td>\n",
              "      <td>4</td>\n",
              "      <td>4.0</td>\n",
              "      <td>5.0</td>\n",
              "      <td>8.43</td>\n",
              "      <td>0</td>\n",
              "    </tr>\n",
              "    <tr>\n",
              "      <th>499</th>\n",
              "      <td>327</td>\n",
              "      <td>113</td>\n",
              "      <td>4</td>\n",
              "      <td>4.5</td>\n",
              "      <td>4.5</td>\n",
              "      <td>9.04</td>\n",
              "      <td>0</td>\n",
              "    </tr>\n",
              "  </tbody>\n",
              "</table>\n",
              "<p>500 rows × 7 columns</p>\n",
              "</div>\n",
              "    <div class=\"colab-df-buttons\">\n",
              "\n",
              "  <div class=\"colab-df-container\">\n",
              "    <button class=\"colab-df-convert\" onclick=\"convertToInteractive('df-09dd2642-50ac-4f74-aa7c-fb42b25fabb1')\"\n",
              "            title=\"Convert this dataframe to an interactive table.\"\n",
              "            style=\"display:none;\">\n",
              "\n",
              "  <svg xmlns=\"http://www.w3.org/2000/svg\" height=\"24px\" viewBox=\"0 -960 960 960\">\n",
              "    <path d=\"M120-120v-720h720v720H120Zm60-500h600v-160H180v160Zm220 220h160v-160H400v160Zm0 220h160v-160H400v160ZM180-400h160v-160H180v160Zm440 0h160v-160H620v160ZM180-180h160v-160H180v160Zm440 0h160v-160H620v160Z\"/>\n",
              "  </svg>\n",
              "    </button>\n",
              "\n",
              "  <style>\n",
              "    .colab-df-container {\n",
              "      display:flex;\n",
              "      gap: 12px;\n",
              "    }\n",
              "\n",
              "    .colab-df-convert {\n",
              "      background-color: #E8F0FE;\n",
              "      border: none;\n",
              "      border-radius: 50%;\n",
              "      cursor: pointer;\n",
              "      display: none;\n",
              "      fill: #1967D2;\n",
              "      height: 32px;\n",
              "      padding: 0 0 0 0;\n",
              "      width: 32px;\n",
              "    }\n",
              "\n",
              "    .colab-df-convert:hover {\n",
              "      background-color: #E2EBFA;\n",
              "      box-shadow: 0px 1px 2px rgba(60, 64, 67, 0.3), 0px 1px 3px 1px rgba(60, 64, 67, 0.15);\n",
              "      fill: #174EA6;\n",
              "    }\n",
              "\n",
              "    .colab-df-buttons div {\n",
              "      margin-bottom: 4px;\n",
              "    }\n",
              "\n",
              "    [theme=dark] .colab-df-convert {\n",
              "      background-color: #3B4455;\n",
              "      fill: #D2E3FC;\n",
              "    }\n",
              "\n",
              "    [theme=dark] .colab-df-convert:hover {\n",
              "      background-color: #434B5C;\n",
              "      box-shadow: 0px 1px 3px 1px rgba(0, 0, 0, 0.15);\n",
              "      filter: drop-shadow(0px 1px 2px rgba(0, 0, 0, 0.3));\n",
              "      fill: #FFFFFF;\n",
              "    }\n",
              "  </style>\n",
              "\n",
              "    <script>\n",
              "      const buttonEl =\n",
              "        document.querySelector('#df-09dd2642-50ac-4f74-aa7c-fb42b25fabb1 button.colab-df-convert');\n",
              "      buttonEl.style.display =\n",
              "        google.colab.kernel.accessAllowed ? 'block' : 'none';\n",
              "\n",
              "      async function convertToInteractive(key) {\n",
              "        const element = document.querySelector('#df-09dd2642-50ac-4f74-aa7c-fb42b25fabb1');\n",
              "        const dataTable =\n",
              "          await google.colab.kernel.invokeFunction('convertToInteractive',\n",
              "                                                    [key], {});\n",
              "        if (!dataTable) return;\n",
              "\n",
              "        const docLinkHtml = 'Like what you see? Visit the ' +\n",
              "          '<a target=\"_blank\" href=https://colab.research.google.com/notebooks/data_table.ipynb>data table notebook</a>'\n",
              "          + ' to learn more about interactive tables.';\n",
              "        element.innerHTML = '';\n",
              "        dataTable['output_type'] = 'display_data';\n",
              "        await google.colab.output.renderOutput(dataTable, element);\n",
              "        const docLink = document.createElement('div');\n",
              "        docLink.innerHTML = docLinkHtml;\n",
              "        element.appendChild(docLink);\n",
              "      }\n",
              "    </script>\n",
              "  </div>\n",
              "\n",
              "\n",
              "<div id=\"df-993516fc-a457-4165-8ab6-bcb75fecbdc4\">\n",
              "  <button class=\"colab-df-quickchart\" onclick=\"quickchart('df-993516fc-a457-4165-8ab6-bcb75fecbdc4')\"\n",
              "            title=\"Suggest charts\"\n",
              "            style=\"display:none;\">\n",
              "\n",
              "<svg xmlns=\"http://www.w3.org/2000/svg\" height=\"24px\"viewBox=\"0 0 24 24\"\n",
              "     width=\"24px\">\n",
              "    <g>\n",
              "        <path d=\"M19 3H5c-1.1 0-2 .9-2 2v14c0 1.1.9 2 2 2h14c1.1 0 2-.9 2-2V5c0-1.1-.9-2-2-2zM9 17H7v-7h2v7zm4 0h-2V7h2v10zm4 0h-2v-4h2v4z\"/>\n",
              "    </g>\n",
              "</svg>\n",
              "  </button>\n",
              "\n",
              "<style>\n",
              "  .colab-df-quickchart {\n",
              "      --bg-color: #E8F0FE;\n",
              "      --fill-color: #1967D2;\n",
              "      --hover-bg-color: #E2EBFA;\n",
              "      --hover-fill-color: #174EA6;\n",
              "      --disabled-fill-color: #AAA;\n",
              "      --disabled-bg-color: #DDD;\n",
              "  }\n",
              "\n",
              "  [theme=dark] .colab-df-quickchart {\n",
              "      --bg-color: #3B4455;\n",
              "      --fill-color: #D2E3FC;\n",
              "      --hover-bg-color: #434B5C;\n",
              "      --hover-fill-color: #FFFFFF;\n",
              "      --disabled-bg-color: #3B4455;\n",
              "      --disabled-fill-color: #666;\n",
              "  }\n",
              "\n",
              "  .colab-df-quickchart {\n",
              "    background-color: var(--bg-color);\n",
              "    border: none;\n",
              "    border-radius: 50%;\n",
              "    cursor: pointer;\n",
              "    display: none;\n",
              "    fill: var(--fill-color);\n",
              "    height: 32px;\n",
              "    padding: 0;\n",
              "    width: 32px;\n",
              "  }\n",
              "\n",
              "  .colab-df-quickchart:hover {\n",
              "    background-color: var(--hover-bg-color);\n",
              "    box-shadow: 0 1px 2px rgba(60, 64, 67, 0.3), 0 1px 3px 1px rgba(60, 64, 67, 0.15);\n",
              "    fill: var(--button-hover-fill-color);\n",
              "  }\n",
              "\n",
              "  .colab-df-quickchart-complete:disabled,\n",
              "  .colab-df-quickchart-complete:disabled:hover {\n",
              "    background-color: var(--disabled-bg-color);\n",
              "    fill: var(--disabled-fill-color);\n",
              "    box-shadow: none;\n",
              "  }\n",
              "\n",
              "  .colab-df-spinner {\n",
              "    border: 2px solid var(--fill-color);\n",
              "    border-color: transparent;\n",
              "    border-bottom-color: var(--fill-color);\n",
              "    animation:\n",
              "      spin 1s steps(1) infinite;\n",
              "  }\n",
              "\n",
              "  @keyframes spin {\n",
              "    0% {\n",
              "      border-color: transparent;\n",
              "      border-bottom-color: var(--fill-color);\n",
              "      border-left-color: var(--fill-color);\n",
              "    }\n",
              "    20% {\n",
              "      border-color: transparent;\n",
              "      border-left-color: var(--fill-color);\n",
              "      border-top-color: var(--fill-color);\n",
              "    }\n",
              "    30% {\n",
              "      border-color: transparent;\n",
              "      border-left-color: var(--fill-color);\n",
              "      border-top-color: var(--fill-color);\n",
              "      border-right-color: var(--fill-color);\n",
              "    }\n",
              "    40% {\n",
              "      border-color: transparent;\n",
              "      border-right-color: var(--fill-color);\n",
              "      border-top-color: var(--fill-color);\n",
              "    }\n",
              "    60% {\n",
              "      border-color: transparent;\n",
              "      border-right-color: var(--fill-color);\n",
              "    }\n",
              "    80% {\n",
              "      border-color: transparent;\n",
              "      border-right-color: var(--fill-color);\n",
              "      border-bottom-color: var(--fill-color);\n",
              "    }\n",
              "    90% {\n",
              "      border-color: transparent;\n",
              "      border-bottom-color: var(--fill-color);\n",
              "    }\n",
              "  }\n",
              "</style>\n",
              "\n",
              "  <script>\n",
              "    async function quickchart(key) {\n",
              "      const quickchartButtonEl =\n",
              "        document.querySelector('#' + key + ' button');\n",
              "      quickchartButtonEl.disabled = true;  // To prevent multiple clicks.\n",
              "      quickchartButtonEl.classList.add('colab-df-spinner');\n",
              "      try {\n",
              "        const charts = await google.colab.kernel.invokeFunction(\n",
              "            'suggestCharts', [key], {});\n",
              "      } catch (error) {\n",
              "        console.error('Error during call to suggestCharts:', error);\n",
              "      }\n",
              "      quickchartButtonEl.classList.remove('colab-df-spinner');\n",
              "      quickchartButtonEl.classList.add('colab-df-quickchart-complete');\n",
              "    }\n",
              "    (() => {\n",
              "      let quickchartButtonEl =\n",
              "        document.querySelector('#df-993516fc-a457-4165-8ab6-bcb75fecbdc4 button');\n",
              "      quickchartButtonEl.style.display =\n",
              "        google.colab.kernel.accessAllowed ? 'block' : 'none';\n",
              "    })();\n",
              "  </script>\n",
              "</div>\n",
              "    </div>\n",
              "  </div>\n"
            ]
          },
          "metadata": {},
          "execution_count": 11
        }
      ]
    },
    {
      "cell_type": "code",
      "source": [
        "y"
      ],
      "metadata": {
        "colab": {
          "base_uri": "https://localhost:8080/"
        },
        "id": "9uakr2t2DA8x",
        "outputId": "0053bb0e-7d82-46b0-bf51-5f637d352ebd"
      },
      "execution_count": null,
      "outputs": [
        {
          "output_type": "execute_result",
          "data": {
            "text/plain": [
              "0      0.92\n",
              "1      0.76\n",
              "2      0.72\n",
              "3      0.80\n",
              "4      0.65\n",
              "       ... \n",
              "495    0.87\n",
              "496    0.96\n",
              "497    0.93\n",
              "498    0.73\n",
              "499    0.84\n",
              "Name: Chance of Admit , Length: 500, dtype: float64"
            ]
          },
          "metadata": {},
          "execution_count": 12
        }
      ]
    },
    {
      "cell_type": "code",
      "source": [
        "from sklearn.model_selection import train_test_split\n",
        "\n",
        "x_train, x_test, y_train, y_test = train_test_split(x, y, test_size = 0.2, random_state = 1)"
      ],
      "metadata": {
        "id": "OHvS76PDDBSC"
      },
      "execution_count": null,
      "outputs": []
    },
    {
      "cell_type": "code",
      "source": [
        "x_train.shape"
      ],
      "metadata": {
        "colab": {
          "base_uri": "https://localhost:8080/"
        },
        "id": "rXDod_LZDUlz",
        "outputId": "43b7e5f5-0f9c-4068-c231-326bea35022c"
      },
      "execution_count": null,
      "outputs": [
        {
          "output_type": "execute_result",
          "data": {
            "text/plain": [
              "(400, 7)"
            ]
          },
          "metadata": {},
          "execution_count": 14
        }
      ]
    },
    {
      "cell_type": "code",
      "source": [
        "from sklearn.preprocessing import MinMaxScaler\n",
        "\n",
        "scaler = MinMaxScaler()"
      ],
      "metadata": {
        "id": "BzBtwZlhDWKb"
      },
      "execution_count": null,
      "outputs": []
    },
    {
      "cell_type": "code",
      "source": [
        "x_train_scaled = scaler.fit_transform(x_train)\n",
        "x_test_scaled = scaler.transform(x_test)"
      ],
      "metadata": {
        "id": "-TpmPtWeDhJC"
      },
      "execution_count": null,
      "outputs": []
    },
    {
      "cell_type": "code",
      "source": [
        "x_train_scaled"
      ],
      "metadata": {
        "colab": {
          "base_uri": "https://localhost:8080/"
        },
        "id": "Cs5aBxXGDvsj",
        "outputId": "7c33f7a9-7613-46ed-838d-0329a88dfe95"
      },
      "execution_count": null,
      "outputs": [
        {
          "output_type": "execute_result",
          "data": {
            "text/plain": [
              "array([[0.4       , 0.42857143, 0.5       , ..., 0.57142857, 0.50320513,\n",
              "        0.        ],\n",
              "       [0.56      , 0.64285714, 0.        , ..., 0.57142857, 0.55769231,\n",
              "        1.        ],\n",
              "       [0.2       , 0.32142857, 0.5       , ..., 0.28571429, 0.34615385,\n",
              "        0.        ],\n",
              "       ...,\n",
              "       [0.7       , 0.53571429, 0.5       , ..., 0.57142857, 0.74038462,\n",
              "        1.        ],\n",
              "       [0.72      , 0.67857143, 1.        , ..., 0.71428571, 0.77884615,\n",
              "        1.        ],\n",
              "       [0.2       , 0.46428571, 0.        , ..., 0.14285714, 0.32051282,\n",
              "        0.        ]])"
            ]
          },
          "metadata": {},
          "execution_count": 17
        }
      ]
    },
    {
      "cell_type": "code",
      "source": [
        "import tensorflow\n",
        "from tensorflow import keras\n",
        "from keras import Sequential\n",
        "from keras.layers import Dense"
      ],
      "metadata": {
        "id": "MoSbpJFLDxlq"
      },
      "execution_count": null,
      "outputs": []
    },
    {
      "cell_type": "code",
      "source": [
        "model = Sequential()\n",
        "\n",
        "model.add(Dense(7, activation = \"relu\", input_dim = 7))\n",
        "model.add(Dense(7, activation = \"relu\"))\n",
        "model.add(Dense(1, activation = \"linear\"))"
      ],
      "metadata": {
        "id": "vFexicNaD9Nq"
      },
      "execution_count": null,
      "outputs": []
    },
    {
      "cell_type": "code",
      "source": [
        "model.summary()"
      ],
      "metadata": {
        "colab": {
          "base_uri": "https://localhost:8080/"
        },
        "id": "iFjWdYQAEW-D",
        "outputId": "788ecd33-2e99-4be9-bb45-c5325d3cae32"
      },
      "execution_count": null,
      "outputs": [
        {
          "output_type": "stream",
          "name": "stdout",
          "text": [
            "Model: \"sequential_1\"\n",
            "_________________________________________________________________\n",
            " Layer (type)                Output Shape              Param #   \n",
            "=================================================================\n",
            " dense_3 (Dense)             (None, 7)                 56        \n",
            "                                                                 \n",
            " dense_4 (Dense)             (None, 7)                 56        \n",
            "                                                                 \n",
            " dense_5 (Dense)             (None, 7)                 56        \n",
            "                                                                 \n",
            " dense_6 (Dense)             (None, 1)                 8         \n",
            "                                                                 \n",
            "=================================================================\n",
            "Total params: 176 (704.00 Byte)\n",
            "Trainable params: 176 (704.00 Byte)\n",
            "Non-trainable params: 0 (0.00 Byte)\n",
            "_________________________________________________________________\n"
          ]
        }
      ]
    },
    {
      "cell_type": "code",
      "source": [
        "model.compile(loss = \"mean_squared_error\", optimizer = \"Adam\")"
      ],
      "metadata": {
        "id": "LNQn_C-0EYli"
      },
      "execution_count": null,
      "outputs": []
    },
    {
      "cell_type": "code",
      "source": [
        "history = model.fit(x_train_scaled, y_train, epochs = 10s0, validation_split = 0.2)"
      ],
      "metadata": {
        "colab": {
          "base_uri": "https://localhost:8080/"
        },
        "id": "aF8DAIOmEkgF",
        "outputId": "f9f9c3d6-4ab0-420d-b63c-49db10d8d806"
      },
      "execution_count": null,
      "outputs": [
        {
          "output_type": "stream",
          "name": "stdout",
          "text": [
            "Epoch 1/150\n",
            "10/10 [==============================] - 1s 23ms/step - loss: 0.3975 - val_loss: 0.3855\n",
            "Epoch 2/150\n",
            "10/10 [==============================] - 0s 7ms/step - loss: 0.3011 - val_loss: 0.2826\n",
            "Epoch 3/150\n",
            "10/10 [==============================] - 0s 8ms/step - loss: 0.2106 - val_loss: 0.1872\n",
            "Epoch 4/150\n",
            "10/10 [==============================] - 0s 8ms/step - loss: 0.1291 - val_loss: 0.1051\n",
            "Epoch 5/150\n",
            "10/10 [==============================] - 0s 7ms/step - loss: 0.0645 - val_loss: 0.0474\n",
            "Epoch 6/150\n",
            "10/10 [==============================] - 0s 9ms/step - loss: 0.0308 - val_loss: 0.0239\n",
            "Epoch 7/150\n",
            "10/10 [==============================] - 0s 5ms/step - loss: 0.0234 - val_loss: 0.0203\n",
            "Epoch 8/150\n",
            "10/10 [==============================] - 0s 4ms/step - loss: 0.0222 - val_loss: 0.0190\n",
            "Epoch 9/150\n",
            "10/10 [==============================] - 0s 4ms/step - loss: 0.0199 - val_loss: 0.0181\n",
            "Epoch 10/150\n",
            "10/10 [==============================] - 0s 4ms/step - loss: 0.0177 - val_loss: 0.0176\n",
            "Epoch 11/150\n",
            "10/10 [==============================] - 0s 6ms/step - loss: 0.0164 - val_loss: 0.0166\n",
            "Epoch 12/150\n",
            "10/10 [==============================] - 0s 5ms/step - loss: 0.0154 - val_loss: 0.0155\n",
            "Epoch 13/150\n",
            "10/10 [==============================] - 0s 6ms/step - loss: 0.0145 - val_loss: 0.0146\n",
            "Epoch 14/150\n",
            "10/10 [==============================] - 0s 3ms/step - loss: 0.0139 - val_loss: 0.0140\n",
            "Epoch 15/150\n",
            "10/10 [==============================] - 0s 5ms/step - loss: 0.0133 - val_loss: 0.0132\n",
            "Epoch 16/150\n",
            "10/10 [==============================] - 0s 6ms/step - loss: 0.0127 - val_loss: 0.0126\n",
            "Epoch 17/150\n",
            "10/10 [==============================] - 0s 4ms/step - loss: 0.0122 - val_loss: 0.0120\n",
            "Epoch 18/150\n",
            "10/10 [==============================] - 0s 3ms/step - loss: 0.0118 - val_loss: 0.0115\n",
            "Epoch 19/150\n",
            "10/10 [==============================] - 0s 3ms/step - loss: 0.0113 - val_loss: 0.0109\n",
            "Epoch 20/150\n",
            "10/10 [==============================] - 0s 4ms/step - loss: 0.0109 - val_loss: 0.0103\n",
            "Epoch 21/150\n",
            "10/10 [==============================] - 0s 3ms/step - loss: 0.0105 - val_loss: 0.0098\n",
            "Epoch 22/150\n",
            "10/10 [==============================] - 0s 5ms/step - loss: 0.0102 - val_loss: 0.0095\n",
            "Epoch 23/150\n",
            "10/10 [==============================] - 0s 4ms/step - loss: 0.0098 - val_loss: 0.0092\n",
            "Epoch 24/150\n",
            "10/10 [==============================] - 0s 3ms/step - loss: 0.0095 - val_loss: 0.0087\n",
            "Epoch 25/150\n",
            "10/10 [==============================] - 0s 3ms/step - loss: 0.0092 - val_loss: 0.0083\n",
            "Epoch 26/150\n",
            "10/10 [==============================] - 0s 4ms/step - loss: 0.0089 - val_loss: 0.0080\n",
            "Epoch 27/150\n",
            "10/10 [==============================] - 0s 4ms/step - loss: 0.0087 - val_loss: 0.0078\n",
            "Epoch 28/150\n",
            "10/10 [==============================] - 0s 4ms/step - loss: 0.0084 - val_loss: 0.0074\n",
            "Epoch 29/150\n",
            "10/10 [==============================] - 0s 3ms/step - loss: 0.0082 - val_loss: 0.0073\n",
            "Epoch 30/150\n",
            "10/10 [==============================] - 0s 3ms/step - loss: 0.0079 - val_loss: 0.0069\n",
            "Epoch 31/150\n",
            "10/10 [==============================] - 0s 3ms/step - loss: 0.0077 - val_loss: 0.0068\n",
            "Epoch 32/150\n",
            "10/10 [==============================] - 0s 4ms/step - loss: 0.0075 - val_loss: 0.0065\n",
            "Epoch 33/150\n",
            "10/10 [==============================] - 0s 4ms/step - loss: 0.0072 - val_loss: 0.0063\n",
            "Epoch 34/150\n",
            "10/10 [==============================] - 0s 4ms/step - loss: 0.0071 - val_loss: 0.0062\n",
            "Epoch 35/150\n",
            "10/10 [==============================] - 0s 3ms/step - loss: 0.0069 - val_loss: 0.0059\n",
            "Epoch 36/150\n",
            "10/10 [==============================] - 0s 4ms/step - loss: 0.0067 - val_loss: 0.0058\n",
            "Epoch 37/150\n",
            "10/10 [==============================] - 0s 5ms/step - loss: 0.0066 - val_loss: 0.0060\n",
            "Epoch 38/150\n",
            "10/10 [==============================] - 0s 5ms/step - loss: 0.0064 - val_loss: 0.0056\n",
            "Epoch 39/150\n",
            "10/10 [==============================] - 0s 3ms/step - loss: 0.0063 - val_loss: 0.0056\n",
            "Epoch 40/150\n",
            "10/10 [==============================] - 0s 5ms/step - loss: 0.0062 - val_loss: 0.0055\n",
            "Epoch 41/150\n",
            "10/10 [==============================] - 0s 6ms/step - loss: 0.0061 - val_loss: 0.0053\n",
            "Epoch 42/150\n",
            "10/10 [==============================] - 0s 4ms/step - loss: 0.0060 - val_loss: 0.0053\n",
            "Epoch 43/150\n",
            "10/10 [==============================] - 0s 6ms/step - loss: 0.0059 - val_loss: 0.0053\n",
            "Epoch 44/150\n",
            "10/10 [==============================] - 0s 5ms/step - loss: 0.0058 - val_loss: 0.0052\n",
            "Epoch 45/150\n",
            "10/10 [==============================] - 0s 5ms/step - loss: 0.0058 - val_loss: 0.0051\n",
            "Epoch 46/150\n",
            "10/10 [==============================] - 0s 4ms/step - loss: 0.0057 - val_loss: 0.0052\n",
            "Epoch 47/150\n",
            "10/10 [==============================] - 0s 4ms/step - loss: 0.0056 - val_loss: 0.0050\n",
            "Epoch 48/150\n",
            "10/10 [==============================] - 0s 3ms/step - loss: 0.0055 - val_loss: 0.0050\n",
            "Epoch 49/150\n",
            "10/10 [==============================] - 0s 4ms/step - loss: 0.0055 - val_loss: 0.0050\n",
            "Epoch 50/150\n",
            "10/10 [==============================] - 0s 3ms/step - loss: 0.0054 - val_loss: 0.0049\n",
            "Epoch 51/150\n",
            "10/10 [==============================] - 0s 3ms/step - loss: 0.0054 - val_loss: 0.0049\n",
            "Epoch 52/150\n",
            "10/10 [==============================] - 0s 3ms/step - loss: 0.0053 - val_loss: 0.0050\n",
            "Epoch 53/150\n",
            "10/10 [==============================] - 0s 4ms/step - loss: 0.0053 - val_loss: 0.0048\n",
            "Epoch 54/150\n",
            "10/10 [==============================] - 0s 5ms/step - loss: 0.0053 - val_loss: 0.0050\n",
            "Epoch 55/150\n",
            "10/10 [==============================] - 0s 6ms/step - loss: 0.0052 - val_loss: 0.0048\n",
            "Epoch 56/150\n",
            "10/10 [==============================] - 0s 3ms/step - loss: 0.0051 - val_loss: 0.0048\n",
            "Epoch 57/150\n",
            "10/10 [==============================] - 0s 4ms/step - loss: 0.0051 - val_loss: 0.0048\n",
            "Epoch 58/150\n",
            "10/10 [==============================] - 0s 4ms/step - loss: 0.0051 - val_loss: 0.0047\n",
            "Epoch 59/150\n",
            "10/10 [==============================] - 0s 4ms/step - loss: 0.0050 - val_loss: 0.0048\n",
            "Epoch 60/150\n",
            "10/10 [==============================] - 0s 6ms/step - loss: 0.0050 - val_loss: 0.0047\n",
            "Epoch 61/150\n",
            "10/10 [==============================] - 0s 5ms/step - loss: 0.0049 - val_loss: 0.0047\n",
            "Epoch 62/150\n",
            "10/10 [==============================] - 0s 6ms/step - loss: 0.0049 - val_loss: 0.0048\n",
            "Epoch 63/150\n",
            "10/10 [==============================] - 0s 5ms/step - loss: 0.0049 - val_loss: 0.0046\n",
            "Epoch 64/150\n",
            "10/10 [==============================] - 0s 5ms/step - loss: 0.0049 - val_loss: 0.0049\n",
            "Epoch 65/150\n",
            "10/10 [==============================] - 0s 4ms/step - loss: 0.0048 - val_loss: 0.0046\n",
            "Epoch 66/150\n",
            "10/10 [==============================] - 0s 4ms/step - loss: 0.0048 - val_loss: 0.0047\n",
            "Epoch 67/150\n",
            "10/10 [==============================] - 0s 6ms/step - loss: 0.0048 - val_loss: 0.0046\n",
            "Epoch 68/150\n",
            "10/10 [==============================] - 0s 3ms/step - loss: 0.0048 - val_loss: 0.0046\n",
            "Epoch 69/150\n",
            "10/10 [==============================] - 0s 3ms/step - loss: 0.0047 - val_loss: 0.0046\n",
            "Epoch 70/150\n",
            "10/10 [==============================] - 0s 6ms/step - loss: 0.0047 - val_loss: 0.0045\n",
            "Epoch 71/150\n",
            "10/10 [==============================] - 0s 5ms/step - loss: 0.0047 - val_loss: 0.0046\n",
            "Epoch 72/150\n",
            "10/10 [==============================] - 0s 4ms/step - loss: 0.0047 - val_loss: 0.0045\n",
            "Epoch 73/150\n",
            "10/10 [==============================] - 0s 6ms/step - loss: 0.0046 - val_loss: 0.0047\n",
            "Epoch 74/150\n",
            "10/10 [==============================] - 0s 5ms/step - loss: 0.0046 - val_loss: 0.0045\n",
            "Epoch 75/150\n",
            "10/10 [==============================] - 0s 3ms/step - loss: 0.0046 - val_loss: 0.0045\n",
            "Epoch 76/150\n",
            "10/10 [==============================] - 0s 5ms/step - loss: 0.0046 - val_loss: 0.0045\n",
            "Epoch 77/150\n",
            "10/10 [==============================] - 0s 3ms/step - loss: 0.0046 - val_loss: 0.0045\n",
            "Epoch 78/150\n",
            "10/10 [==============================] - 0s 4ms/step - loss: 0.0046 - val_loss: 0.0046\n",
            "Epoch 79/150\n",
            "10/10 [==============================] - 0s 4ms/step - loss: 0.0046 - val_loss: 0.0045\n",
            "Epoch 80/150\n",
            "10/10 [==============================] - 0s 6ms/step - loss: 0.0045 - val_loss: 0.0045\n",
            "Epoch 81/150\n",
            "10/10 [==============================] - 0s 4ms/step - loss: 0.0045 - val_loss: 0.0045\n",
            "Epoch 82/150\n",
            "10/10 [==============================] - 0s 6ms/step - loss: 0.0045 - val_loss: 0.0045\n",
            "Epoch 83/150\n",
            "10/10 [==============================] - 0s 5ms/step - loss: 0.0045 - val_loss: 0.0045\n",
            "Epoch 84/150\n",
            "10/10 [==============================] - 0s 4ms/step - loss: 0.0045 - val_loss: 0.0045\n",
            "Epoch 85/150\n",
            "10/10 [==============================] - 0s 6ms/step - loss: 0.0045 - val_loss: 0.0044\n",
            "Epoch 86/150\n",
            "10/10 [==============================] - 0s 6ms/step - loss: 0.0045 - val_loss: 0.0045\n",
            "Epoch 87/150\n",
            "10/10 [==============================] - 0s 6ms/step - loss: 0.0045 - val_loss: 0.0044\n",
            "Epoch 88/150\n",
            "10/10 [==============================] - 0s 4ms/step - loss: 0.0045 - val_loss: 0.0045\n",
            "Epoch 89/150\n",
            "10/10 [==============================] - 0s 4ms/step - loss: 0.0045 - val_loss: 0.0044\n",
            "Epoch 90/150\n",
            "10/10 [==============================] - 0s 4ms/step - loss: 0.0044 - val_loss: 0.0044\n",
            "Epoch 91/150\n",
            "10/10 [==============================] - 0s 6ms/step - loss: 0.0044 - val_loss: 0.0043\n",
            "Epoch 92/150\n",
            "10/10 [==============================] - 0s 4ms/step - loss: 0.0044 - val_loss: 0.0044\n",
            "Epoch 93/150\n",
            "10/10 [==============================] - 0s 6ms/step - loss: 0.0044 - val_loss: 0.0043\n",
            "Epoch 94/150\n",
            "10/10 [==============================] - 0s 4ms/step - loss: 0.0044 - val_loss: 0.0044\n",
            "Epoch 95/150\n",
            "10/10 [==============================] - 0s 4ms/step - loss: 0.0044 - val_loss: 0.0044\n",
            "Epoch 96/150\n",
            "10/10 [==============================] - 0s 4ms/step - loss: 0.0044 - val_loss: 0.0043\n",
            "Epoch 97/150\n",
            "10/10 [==============================] - 0s 4ms/step - loss: 0.0044 - val_loss: 0.0044\n",
            "Epoch 98/150\n",
            "10/10 [==============================] - 0s 3ms/step - loss: 0.0044 - val_loss: 0.0043\n",
            "Epoch 99/150\n",
            "10/10 [==============================] - 0s 5ms/step - loss: 0.0044 - val_loss: 0.0044\n",
            "Epoch 100/150\n",
            "10/10 [==============================] - 0s 4ms/step - loss: 0.0044 - val_loss: 0.0043\n",
            "Epoch 101/150\n",
            "10/10 [==============================] - 0s 4ms/step - loss: 0.0044 - val_loss: 0.0043\n",
            "Epoch 102/150\n",
            "10/10 [==============================] - 0s 4ms/step - loss: 0.0043 - val_loss: 0.0044\n",
            "Epoch 103/150\n",
            "10/10 [==============================] - 0s 7ms/step - loss: 0.0043 - val_loss: 0.0043\n",
            "Epoch 104/150\n",
            "10/10 [==============================] - 0s 4ms/step - loss: 0.0043 - val_loss: 0.0042\n",
            "Epoch 105/150\n",
            "10/10 [==============================] - 0s 6ms/step - loss: 0.0043 - val_loss: 0.0044\n",
            "Epoch 106/150\n",
            "10/10 [==============================] - 0s 6ms/step - loss: 0.0043 - val_loss: 0.0043\n",
            "Epoch 107/150\n",
            "10/10 [==============================] - 0s 4ms/step - loss: 0.0043 - val_loss: 0.0043\n",
            "Epoch 108/150\n",
            "10/10 [==============================] - 0s 6ms/step - loss: 0.0043 - val_loss: 0.0042\n",
            "Epoch 109/150\n",
            "10/10 [==============================] - 0s 6ms/step - loss: 0.0043 - val_loss: 0.0043\n",
            "Epoch 110/150\n",
            "10/10 [==============================] - 0s 5ms/step - loss: 0.0043 - val_loss: 0.0042\n",
            "Epoch 111/150\n",
            "10/10 [==============================] - 0s 5ms/step - loss: 0.0043 - val_loss: 0.0043\n",
            "Epoch 112/150\n",
            "10/10 [==============================] - 0s 4ms/step - loss: 0.0043 - val_loss: 0.0042\n",
            "Epoch 113/150\n",
            "10/10 [==============================] - 0s 4ms/step - loss: 0.0043 - val_loss: 0.0043\n",
            "Epoch 114/150\n",
            "10/10 [==============================] - 0s 6ms/step - loss: 0.0043 - val_loss: 0.0043\n",
            "Epoch 115/150\n",
            "10/10 [==============================] - 0s 4ms/step - loss: 0.0044 - val_loss: 0.0041\n",
            "Epoch 116/150\n",
            "10/10 [==============================] - 0s 6ms/step - loss: 0.0043 - val_loss: 0.0043\n",
            "Epoch 117/150\n",
            "10/10 [==============================] - 0s 5ms/step - loss: 0.0043 - val_loss: 0.0041\n",
            "Epoch 118/150\n",
            "10/10 [==============================] - 0s 4ms/step - loss: 0.0043 - val_loss: 0.0041\n",
            "Epoch 119/150\n",
            "10/10 [==============================] - 0s 5ms/step - loss: 0.0042 - val_loss: 0.0042\n",
            "Epoch 120/150\n",
            "10/10 [==============================] - 0s 6ms/step - loss: 0.0043 - val_loss: 0.0042\n",
            "Epoch 121/150\n",
            "10/10 [==============================] - 0s 4ms/step - loss: 0.0042 - val_loss: 0.0042\n",
            "Epoch 122/150\n",
            "10/10 [==============================] - 0s 5ms/step - loss: 0.0042 - val_loss: 0.0041\n",
            "Epoch 123/150\n",
            "10/10 [==============================] - 0s 4ms/step - loss: 0.0042 - val_loss: 0.0043\n",
            "Epoch 124/150\n",
            "10/10 [==============================] - 0s 4ms/step - loss: 0.0042 - val_loss: 0.0041\n",
            "Epoch 125/150\n",
            "10/10 [==============================] - 0s 4ms/step - loss: 0.0042 - val_loss: 0.0041\n",
            "Epoch 126/150\n",
            "10/10 [==============================] - 0s 6ms/step - loss: 0.0042 - val_loss: 0.0042\n",
            "Epoch 127/150\n",
            "10/10 [==============================] - 0s 5ms/step - loss: 0.0042 - val_loss: 0.0041\n",
            "Epoch 128/150\n",
            "10/10 [==============================] - 0s 6ms/step - loss: 0.0042 - val_loss: 0.0042\n",
            "Epoch 129/150\n",
            "10/10 [==============================] - 0s 4ms/step - loss: 0.0042 - val_loss: 0.0041\n",
            "Epoch 130/150\n",
            "10/10 [==============================] - 0s 3ms/step - loss: 0.0042 - val_loss: 0.0042\n",
            "Epoch 131/150\n",
            "10/10 [==============================] - 0s 4ms/step - loss: 0.0042 - val_loss: 0.0041\n",
            "Epoch 132/150\n",
            "10/10 [==============================] - 0s 5ms/step - loss: 0.0042 - val_loss: 0.0041\n",
            "Epoch 133/150\n",
            "10/10 [==============================] - 0s 4ms/step - loss: 0.0042 - val_loss: 0.0041\n",
            "Epoch 134/150\n",
            "10/10 [==============================] - 0s 4ms/step - loss: 0.0042 - val_loss: 0.0040\n",
            "Epoch 135/150\n",
            "10/10 [==============================] - 0s 6ms/step - loss: 0.0041 - val_loss: 0.0042\n",
            "Epoch 136/150\n",
            "10/10 [==============================] - 0s 4ms/step - loss: 0.0041 - val_loss: 0.0040\n",
            "Epoch 137/150\n",
            "10/10 [==============================] - 0s 3ms/step - loss: 0.0042 - val_loss: 0.0040\n",
            "Epoch 138/150\n",
            "10/10 [==============================] - 0s 5ms/step - loss: 0.0041 - val_loss: 0.0041\n",
            "Epoch 139/150\n",
            "10/10 [==============================] - 0s 5ms/step - loss: 0.0041 - val_loss: 0.0040\n",
            "Epoch 140/150\n",
            "10/10 [==============================] - 0s 6ms/step - loss: 0.0041 - val_loss: 0.0041\n",
            "Epoch 141/150\n",
            "10/10 [==============================] - 0s 4ms/step - loss: 0.0041 - val_loss: 0.0041\n",
            "Epoch 142/150\n",
            "10/10 [==============================] - 0s 4ms/step - loss: 0.0041 - val_loss: 0.0041\n",
            "Epoch 143/150\n",
            "10/10 [==============================] - 0s 6ms/step - loss: 0.0041 - val_loss: 0.0041\n",
            "Epoch 144/150\n",
            "10/10 [==============================] - 0s 3ms/step - loss: 0.0041 - val_loss: 0.0040\n",
            "Epoch 145/150\n",
            "10/10 [==============================] - 0s 4ms/step - loss: 0.0041 - val_loss: 0.0040\n",
            "Epoch 146/150\n",
            "10/10 [==============================] - 0s 6ms/step - loss: 0.0041 - val_loss: 0.0041\n",
            "Epoch 147/150\n",
            "10/10 [==============================] - 0s 6ms/step - loss: 0.0041 - val_loss: 0.0041\n",
            "Epoch 148/150\n",
            "10/10 [==============================] - 0s 3ms/step - loss: 0.0041 - val_loss: 0.0041\n",
            "Epoch 149/150\n",
            "10/10 [==============================] - 0s 3ms/step - loss: 0.0041 - val_loss: 0.0040\n",
            "Epoch 150/150\n",
            "10/10 [==============================] - 0s 3ms/step - loss: 0.0041 - val_loss: 0.0040\n"
          ]
        }
      ]
    },
    {
      "cell_type": "code",
      "source": [
        "y_pred = model.predict(x_test_scaled)"
      ],
      "metadata": {
        "colab": {
          "base_uri": "https://localhost:8080/"
        },
        "id": "9SRcT0xdEvPr",
        "outputId": "454a5883-d99f-44ba-9f2b-ffc7214648bb"
      },
      "execution_count": null,
      "outputs": [
        {
          "output_type": "stream",
          "name": "stdout",
          "text": [
            "4/4 [==============================] - 0s 2ms/step\n"
          ]
        }
      ]
    },
    {
      "cell_type": "code",
      "source": [
        "from sklearn.metrics import r2_score\n",
        "\n",
        "r2_score(y_test, y_pred)"
      ],
      "metadata": {
        "colab": {
          "base_uri": "https://localhost:8080/"
        },
        "id": "K4DGDdooE35T",
        "outputId": "bddeed3e-c166-4345-c83f-2384099e99b4"
      },
      "execution_count": null,
      "outputs": [
        {
          "output_type": "execute_result",
          "data": {
            "text/plain": [
              "0.7981638186193942"
            ]
          },
          "metadata": {},
          "execution_count": 31
        }
      ]
    },
    {
      "cell_type": "code",
      "source": [
        "import matplotlib.pyplot as plt\n",
        "\n",
        "plt.plot(history.history[\"loss\"])\n",
        "plt.plot(history.history[\"val_loss\"])"
      ],
      "metadata": {
        "colab": {
          "base_uri": "https://localhost:8080/",
          "height": 447
        },
        "id": "FBS2jb-HE_-9",
        "outputId": "13cd19f8-6531-4434-f423-ea4738906ef2"
      },
      "execution_count": null,
      "outputs": [
        {
          "output_type": "execute_result",
          "data": {
            "text/plain": [
              "[<matplotlib.lines.Line2D at 0x7a09f777bf70>]"
            ]
          },
          "metadata": {},
          "execution_count": 32
        },
        {
          "output_type": "display_data",
          "data": {
            "text/plain": [
              "<Figure size 640x480 with 1 Axes>"
            ],
            "image/png": "[encoded data removed]"
          },
          "metadata": {}
        }
      ]
    },
    {
      "cell_type": "code",
      "source": [],
      "metadata": {
        "id": "DIK8C7lNFZ9n"
      },
      "execution_count": null,
      "outputs": []
    }
  ]
}